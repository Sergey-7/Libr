{
 "cells": [
  {
   "cell_type": "markdown",
   "id": "cadaa37c",
   "metadata": {},
   "source": [
    "Нашей компании нужно сгруппировать клиентов для АБ-тестов. Алгоритм группировки очень простой - взять ID клиента (состоит из 5-7 цифр, например 7412567) и найти сумму всех его цифр. Получившееся число и является номером группы, в которую входит данный клиент.\n",
    "Для того, чтобы понять, насколько хорош такой простой алгоритм, тебе нужно написать следующие диагностические функции:\n",
    "1.\tФункция, которая подсчитывает число покупателей, попадающих в каждую группу, если нумерация ID сквозная и начинается с 0. На вход функция получает целое число n_customers (количество клиентов).\n",
    "2.\tФункция, аналогичная первой, если ID начинается с произвольного числа. На вход функция получает целые числа: n_customers (количество клиентов) и n_first_id (первый ID в последовательности).\n",
    "Напишите код функций на Python и оформите его в репозиторий Github. В форму ответа вставьте ссылку на репозиторий, убедитесь, что он публичный. \n",
    "Дополнительно к работоспособности оценим:\n",
    "•\tчитабельность и аккуратность кода;\n",
    "•\tпроизводительность кода.\n"
   ]
  },
  {
   "cell_type": "code",
   "execution_count": 254,
   "id": "93ec3f90",
   "metadata": {},
   "outputs": [],
   "source": [
    "import pandas as pd\n",
    "import numpy as np\n"
   ]
  },
  {
   "cell_type": "markdown",
   "id": "905232a4",
   "metadata": {},
   "source": [
    "Создаем проверочный датасет"
   ]
  },
  {
   "cell_type": "code",
   "execution_count": 266,
   "id": "531d56d1",
   "metadata": {},
   "outputs": [
    {
     "data": {
      "text/html": [
       "<div>\n",
       "<style scoped>\n",
       "    .dataframe tbody tr th:only-of-type {\n",
       "        vertical-align: middle;\n",
       "    }\n",
       "\n",
       "    .dataframe tbody tr th {\n",
       "        vertical-align: top;\n",
       "    }\n",
       "\n",
       "    .dataframe thead th {\n",
       "        text-align: right;\n",
       "    }\n",
       "</style>\n",
       "<table border=\"1\" class=\"dataframe\">\n",
       "  <thead>\n",
       "    <tr style=\"text-align: right;\">\n",
       "      <th></th>\n",
       "      <th>ID</th>\n",
       "    </tr>\n",
       "  </thead>\n",
       "  <tbody>\n",
       "    <tr>\n",
       "      <th>0</th>\n",
       "      <td>7412567</td>\n",
       "    </tr>\n",
       "    <tr>\n",
       "      <th>1</th>\n",
       "      <td>7412569</td>\n",
       "    </tr>\n",
       "    <tr>\n",
       "      <th>2</th>\n",
       "      <td>741256</td>\n",
       "    </tr>\n",
       "    <tr>\n",
       "      <th>3</th>\n",
       "      <td>74125671</td>\n",
       "    </tr>\n",
       "    <tr>\n",
       "      <th>4</th>\n",
       "      <td>7412577</td>\n",
       "    </tr>\n",
       "    <tr>\n",
       "      <th>5</th>\n",
       "      <td>7412542</td>\n",
       "    </tr>\n",
       "    <tr>\n",
       "      <th>6</th>\n",
       "      <td>74125</td>\n",
       "    </tr>\n",
       "    <tr>\n",
       "      <th>7</th>\n",
       "      <td>741253</td>\n",
       "    </tr>\n",
       "    <tr>\n",
       "      <th>8</th>\n",
       "      <td>741255</td>\n",
       "    </tr>\n",
       "  </tbody>\n",
       "</table>\n",
       "</div>"
      ],
      "text/plain": [
       "         ID\n",
       "0   7412567\n",
       "1   7412569\n",
       "2    741256\n",
       "3  74125671\n",
       "4   7412577\n",
       "5   7412542\n",
       "6     74125\n",
       "7    741253\n",
       "8    741255"
      ]
     },
     "execution_count": 266,
     "metadata": {},
     "output_type": "execute_result"
    }
   ],
   "source": [
    "x = np.array([7412567, 7412569, 741256, 74125671, 7412577, 7412542, 74125, 741253, 741255])\n",
    "df = pd.DataFrame(x, columns = ['ID'])\n",
    "df"
   ]
  },
  {
   "cell_type": "code",
   "execution_count": 267,
   "id": "269c6087",
   "metadata": {
    "scrolled": true
   },
   "outputs": [
    {
     "data": {
      "text/html": [
       "<div>\n",
       "<style scoped>\n",
       "    .dataframe tbody tr th:only-of-type {\n",
       "        vertical-align: middle;\n",
       "    }\n",
       "\n",
       "    .dataframe tbody tr th {\n",
       "        vertical-align: top;\n",
       "    }\n",
       "\n",
       "    .dataframe thead th {\n",
       "        text-align: right;\n",
       "    }\n",
       "</style>\n",
       "<table border=\"1\" class=\"dataframe\">\n",
       "  <thead>\n",
       "    <tr style=\"text-align: right;\">\n",
       "      <th></th>\n",
       "      <th>ID</th>\n",
       "      <th>group_number</th>\n",
       "    </tr>\n",
       "  </thead>\n",
       "  <tbody>\n",
       "    <tr>\n",
       "      <th>0</th>\n",
       "      <td>7412567</td>\n",
       "      <td>32</td>\n",
       "    </tr>\n",
       "    <tr>\n",
       "      <th>1</th>\n",
       "      <td>7412569</td>\n",
       "      <td>34</td>\n",
       "    </tr>\n",
       "    <tr>\n",
       "      <th>2</th>\n",
       "      <td>741256</td>\n",
       "      <td>25</td>\n",
       "    </tr>\n",
       "    <tr>\n",
       "      <th>3</th>\n",
       "      <td>74125671</td>\n",
       "      <td>33</td>\n",
       "    </tr>\n",
       "    <tr>\n",
       "      <th>4</th>\n",
       "      <td>7412577</td>\n",
       "      <td>33</td>\n",
       "    </tr>\n",
       "    <tr>\n",
       "      <th>5</th>\n",
       "      <td>7412542</td>\n",
       "      <td>25</td>\n",
       "    </tr>\n",
       "    <tr>\n",
       "      <th>6</th>\n",
       "      <td>74125</td>\n",
       "      <td>19</td>\n",
       "    </tr>\n",
       "    <tr>\n",
       "      <th>7</th>\n",
       "      <td>741253</td>\n",
       "      <td>22</td>\n",
       "    </tr>\n",
       "    <tr>\n",
       "      <th>8</th>\n",
       "      <td>741255</td>\n",
       "      <td>24</td>\n",
       "    </tr>\n",
       "  </tbody>\n",
       "</table>\n",
       "</div>"
      ],
      "text/plain": [
       "         ID  group_number\n",
       "0   7412567            32\n",
       "1   7412569            34\n",
       "2    741256            25\n",
       "3  74125671            33\n",
       "4   7412577            33\n",
       "5   7412542            25\n",
       "6     74125            19\n",
       "7    741253            22\n",
       "8    741255            24"
      ]
     },
     "execution_count": 267,
     "metadata": {},
     "output_type": "execute_result"
    }
   ],
   "source": [
    "def group_num(x):\n",
    "    b = []\n",
    "    for i in x:\n",
    "        a = sum([int(a) for a in str(i)])\n",
    "        b.append(a)\n",
    "    \n",
    "    return b\n",
    "\n",
    "\n",
    "df['group_number'] = df.apply(group_num)\n",
    "df"
   ]
  },
  {
   "cell_type": "markdown",
   "id": "a0d35bd8",
   "metadata": {},
   "source": [
    "## Диагностические функции"
   ]
  },
  {
   "cell_type": "code",
   "execution_count": 277,
   "id": "8568fe0e",
   "metadata": {},
   "outputs": [
    {
     "data": {
      "text/plain": [
       "group_number\n",
       "19    1\n",
       "22    1\n",
       "24    1\n",
       "25    2\n",
       "32    1\n",
       "33    2\n",
       "34    1\n",
       "Name: ID, dtype: int64"
      ]
     },
     "execution_count": 277,
     "metadata": {},
     "output_type": "execute_result"
    }
   ],
   "source": [
    "df1 = df.groupby(['group_number'])['ID'].count() \n",
    "df1"
   ]
  },
  {
   "cell_type": "markdown",
   "id": "ab0563bf",
   "metadata": {},
   "source": [
    "Функция, которая подсчитывает число покупателей, попадающих в каждую группу, если нумерация ID сквозная и начинается с 0. На вход функция получает целое число n_customers (количество клиентов)."
   ]
  },
  {
   "cell_type": "code",
   "execution_count": 280,
   "id": "0e27acf4",
   "metadata": {},
   "outputs": [
    {
     "data": {
      "text/plain": [
       "group_number\n",
       "25    2\n",
       "33    2\n",
       "Name: ID, dtype: int64"
      ]
     },
     "execution_count": 280,
     "metadata": {},
     "output_type": "execute_result"
    }
   ],
   "source": [
    "def n_customers_calc_1(n_customers):\n",
    "    \n",
    "          return df1[df1 == n_customers]\n",
    "\n",
    "n_customers_by_group(2) # показывает число покупателей n_customers в группах"
   ]
  },
  {
   "cell_type": "markdown",
   "id": "f88b4e77",
   "metadata": {},
   "source": [
    "Функция, аналогичная первой, если ID начинается с произвольного числа. На вход функция получает целые числа: n_customers (количество клиентов) и n_first_id (первый ID в последовательности). "
   ]
  },
  {
   "cell_type": "code",
   "execution_count": 291,
   "id": "51e07e82",
   "metadata": {},
   "outputs": [
    {
     "data": {
      "text/plain": [
       "group_number\n",
       "33    2\n",
       "Name: ID, dtype: int64"
      ]
     },
     "execution_count": 291,
     "metadata": {},
     "output_type": "execute_result"
    }
   ],
   "source": [
    "def n_customers_calc_2(n_customers, n_first_id):\n",
    "    \n",
    "    df2 = df[df['ID'] >= n_first_id]   \n",
    "    df2 = df2.groupby(['group_number'])['ID'].count()\n",
    "    \n",
    "    return df2[df2 == n_customers]\n",
    "\n",
    "\n",
    "n_customers_calc_2(2, 7412542)  # показывает число покупателей n_customers в группах для ID >= n_first_id"
   ]
  },
  {
   "cell_type": "code",
   "execution_count": null,
   "id": "54eb1b8a",
   "metadata": {},
   "outputs": [],
   "source": []
  }
 ],
 "metadata": {
  "kernelspec": {
   "display_name": "Python 3 (ipykernel)",
   "language": "python",
   "name": "python3"
  },
  "language_info": {
   "codemirror_mode": {
    "name": "ipython",
    "version": 3
   },
   "file_extension": ".py",
   "mimetype": "text/x-python",
   "name": "python",
   "nbconvert_exporter": "python",
   "pygments_lexer": "ipython3",
   "version": "3.9.13"
  }
 },
 "nbformat": 4,
 "nbformat_minor": 5
}
